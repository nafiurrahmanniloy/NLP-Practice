{
 "cells": [
  {
   "cell_type": "markdown",
   "id": "d9272080-a582-410c-b6a4-e276c0c17f2e",
   "metadata": {},
   "source": [
    "***Check the Similarity between the ref sentence with other sentnces in the dataset***"
   ]
  },
  {
   "cell_type": "code",
   "execution_count": 1,
   "id": "fc5b7e7a-950d-4669-a16a-d717743ebc2c",
   "metadata": {},
   "outputs": [],
   "source": [
    "import pandas as pd\n",
    "import spacy"
   ]
  },
  {
   "cell_type": "code",
   "execution_count": 2,
   "id": "17564460-2b33-44cc-99c7-4dee65a4cadc",
   "metadata": {},
   "outputs": [],
   "source": [
    "nlp = spacy.load('en_core_web_lg')"
   ]
  },
  {
   "cell_type": "code",
   "execution_count": 3,
   "id": "1589d0d1-ed08-4fed-a14f-a4239860e500",
   "metadata": {},
   "outputs": [],
   "source": [
    "w1='pink'\n",
    "w2='red'\n",
    "w1=nlp.vocab[w1] #vocab is like a dictionary that stores all the words the model knows.\n",
    "w2=nlp.vocab[w2] #it gives you information about the word w1 and w2"
   ]
  },
  {
   "cell_type": "code",
   "execution_count": 46,
   "id": "ab8eb59e-85f9-4236-9876-826d0e9e0d17",
   "metadata": {},
   "outputs": [
    {
     "data": {
      "text/plain": [
       "0.7830261588096619"
      ]
     },
     "execution_count": 46,
     "metadata": {},
     "output_type": "execute_result"
    }
   ],
   "source": [
    "w1.similarity(w2)  #compares the meaning of the sentence"
   ]
  },
  {
   "cell_type": "markdown",
   "id": "68c46b6a-4983-4fb1-8268-6d4956fdd9b4",
   "metadata": {},
   "source": [
    "***Now Use this lib for Sentence Similiraty***"
   ]
  },
  {
   "cell_type": "code",
   "execution_count": 6,
   "id": "214aec54-18d6-4212-89c3-73ada234f000",
   "metadata": {},
   "outputs": [],
   "source": [
    "df=pd.read_excel('Sentence.xlsx') #'Sheet1'"
   ]
  },
  {
   "cell_type": "code",
   "execution_count": 7,
   "id": "12a455f8-8849-470a-a030-af824124ac30",
   "metadata": {},
   "outputs": [
    {
     "data": {
      "text/html": [
       "<div>\n",
       "<style scoped>\n",
       "    .dataframe tbody tr th:only-of-type {\n",
       "        vertical-align: middle;\n",
       "    }\n",
       "\n",
       "    .dataframe tbody tr th {\n",
       "        vertical-align: top;\n",
       "    }\n",
       "\n",
       "    .dataframe thead th {\n",
       "        text-align: right;\n",
       "    }\n",
       "</style>\n",
       "<table border=\"1\" class=\"dataframe\">\n",
       "  <thead>\n",
       "    <tr style=\"text-align: right;\">\n",
       "      <th></th>\n",
       "      <th>ID</th>\n",
       "      <th>Message</th>\n",
       "    </tr>\n",
       "  </thead>\n",
       "  <tbody>\n",
       "    <tr>\n",
       "      <th>0</th>\n",
       "      <td>1</td>\n",
       "      <td>does this bus go to gandhi nagar ?</td>\n",
       "    </tr>\n",
       "    <tr>\n",
       "      <th>1</th>\n",
       "      <td>2</td>\n",
       "      <td>what all buses go to gandhi nagar ?</td>\n",
       "    </tr>\n",
       "    <tr>\n",
       "      <th>2</th>\n",
       "      <td>3</td>\n",
       "      <td>is the bus that just left gandhi nagar bus ?</td>\n",
       "    </tr>\n",
       "    <tr>\n",
       "      <th>3</th>\n",
       "      <td>4</td>\n",
       "      <td>when is the next bus to gandhi nagar ?</td>\n",
       "    </tr>\n",
       "    <tr>\n",
       "      <th>4</th>\n",
       "      <td>5</td>\n",
       "      <td>which bus has just left ?</td>\n",
       "    </tr>\n",
       "    <tr>\n",
       "      <th>...</th>\n",
       "      <td>...</td>\n",
       "      <td>...</td>\n",
       "    </tr>\n",
       "    <tr>\n",
       "      <th>4995</th>\n",
       "      <td>4996</td>\n",
       "      <td>mustard usually has a yellow color .</td>\n",
       "    </tr>\n",
       "    <tr>\n",
       "      <th>4996</th>\n",
       "      <td>4997</td>\n",
       "      <td>i like to have oatmeal with yogurt for breakfa...</td>\n",
       "    </tr>\n",
       "    <tr>\n",
       "      <th>4997</th>\n",
       "      <td>4998</td>\n",
       "      <td>you should not go to the party by yourself .</td>\n",
       "    </tr>\n",
       "    <tr>\n",
       "      <th>4998</th>\n",
       "      <td>4999</td>\n",
       "      <td>the young man felt uncomfortable at the party .</td>\n",
       "    </tr>\n",
       "    <tr>\n",
       "      <th>4999</th>\n",
       "      <td>5000</td>\n",
       "      <td>in the end , we had zero profit .</td>\n",
       "    </tr>\n",
       "  </tbody>\n",
       "</table>\n",
       "<p>5000 rows × 2 columns</p>\n",
       "</div>"
      ],
      "text/plain": [
       "        ID                                            Message\n",
       "0        1                 does this bus go to gandhi nagar ?\n",
       "1        2                what all buses go to gandhi nagar ?\n",
       "2        3       is the bus that just left gandhi nagar bus ?\n",
       "3        4             when is the next bus to gandhi nagar ?\n",
       "4        5                          which bus has just left ?\n",
       "...    ...                                                ...\n",
       "4995  4996               mustard usually has a yellow color .\n",
       "4996  4997  i like to have oatmeal with yogurt for breakfa...\n",
       "4997  4998       you should not go to the party by yourself .\n",
       "4998  4999    the young man felt uncomfortable at the party .\n",
       "4999  5000                  in the end , we had zero profit .\n",
       "\n",
       "[5000 rows x 2 columns]"
      ]
     },
     "execution_count": 7,
     "metadata": {},
     "output_type": "execute_result"
    }
   ],
   "source": [
    "df"
   ]
  },
  {
   "cell_type": "code",
   "execution_count": 8,
   "id": "d3ee16ff-f9a8-4f06-b148-654cd9ecac1a",
   "metadata": {},
   "outputs": [
    {
     "name": "stderr",
     "output_type": "stream",
     "text": [
      "C:\\Users\\nafiu\\AppData\\Local\\Temp\\ipykernel_17240\\1873235587.py:1: FutureWarning: Series.__getitem__ treating keys as positions is deprecated. In a future version, integer keys will always be treated as labels (consistent with DataFrame behavior). To access a value by position, use `ser.iloc[pos]`\n",
      "  ref_sent=df.iloc[1][1]\n"
     ]
    },
    {
     "data": {
      "text/plain": [
       "'what all buses go to gandhi nagar ?'"
      ]
     },
     "execution_count": 8,
     "metadata": {},
     "output_type": "execute_result"
    }
   ],
   "source": [
    "ref_sent=df.iloc[1][1]\n",
    "ref_sent"
   ]
  },
  {
   "cell_type": "code",
   "execution_count": 9,
   "id": "b1026811-d773-4d8d-9528-f07d4a220aa7",
   "metadata": {},
   "outputs": [
    {
     "data": {
      "text/plain": [
       "str"
      ]
     },
     "execution_count": 9,
     "metadata": {},
     "output_type": "execute_result"
    }
   ],
   "source": [
    "type(ref_sent)"
   ]
  },
  {
   "cell_type": "code",
   "execution_count": 11,
   "id": "ac191957-c134-44d5-97d9-3897053d9932",
   "metadata": {},
   "outputs": [
    {
     "data": {
      "text/plain": [
       "what all buses go to gandhi nagar ?"
      ]
     },
     "execution_count": 11,
     "metadata": {},
     "output_type": "execute_result"
    }
   ],
   "source": [
    "ref_sent_vec=nlp(ref_sent)\n",
    "ref_sent_vec"
   ]
  },
  {
   "cell_type": "code",
   "execution_count": 12,
   "id": "0fae32a6-ec29-4389-81de-a55c575578e1",
   "metadata": {},
   "outputs": [
    {
     "data": {
      "text/plain": [
       "spacy.tokens.doc.Doc"
      ]
     },
     "execution_count": 12,
     "metadata": {},
     "output_type": "execute_result"
    }
   ],
   "source": [
    "type(ref_sent_vec)"
   ]
  },
  {
   "cell_type": "code",
   "execution_count": 13,
   "id": "8fadfcf4-6c7c-4721-a5a8-9bc3b2f4bb28",
   "metadata": {},
   "outputs": [],
   "source": [
    "#convert all the messeges to doc type\n",
    "all_docs=[nlp(row) for row in df['Message'][:100]]  #list comprehension"
   ]
  },
  {
   "cell_type": "code",
   "execution_count": 24,
   "id": "cebdc87c-0f24-43f5-9037-ea401eaa6f89",
   "metadata": {},
   "outputs": [
    {
     "data": {
      "text/plain": [
       "[does this bus go to gandhi nagar ?,\n",
       " what all buses go to gandhi nagar ?,\n",
       " is the bus that just left gandhi nagar bus ?,\n",
       " when is the next bus to gandhi nagar ?,\n",
       " which bus has just left ?,\n",
       " does this bus go via ashok nagar ?,\n",
       " sir , i am to get down at gandhi nagar .,\n",
       " would you mind telling me when we get there ? i am new to this town .,\n",
       " sir , would you mind keeping this bag under the seat ?,\n",
       " is she calling you ?,\n",
       " is she writing a letter ?,\n",
       " is she cutting a tree ?,\n",
       " is she reading a novel ?,\n",
       " is she calling your sister ?,\n",
       " is she going to delhi ?,\n",
       " is the bus corning ?,\n",
       " is it raining ?,\n",
       " is the machine working ?,\n",
       " is he taking your cell phone ?,\n",
       " is your mother preparing food ?,\n",
       " after lunch , we can go .,\n",
       " i shall drop you at your place .,\n",
       " soon i shall come to your house .,\n",
       " may i come in sir ?,\n",
       " good morning to all .,\n",
       " forget it . anyone can make a mistake .,\n",
       " i am sure it was not your fault and everybody knows it .,\n",
       " nothing like that will happen again . don t worry .,\n",
       " why fear when i am here ?,\n",
       " why fear as long as i am with you ?,\n",
       " don t worry . i too have the same problem .,\n",
       " tears don t solve any problem .,\n",
       " could you help me ?,\n",
       " i expect the advice .,\n",
       " why don t you give the advice ?,\n",
       " i badly need your advice .,\n",
       " i urgently require your advice .,\n",
       " i request you to guide me .,\n",
       " they will bat first .,\n",
       " where is this match held ?,\n",
       " at lahore in pakistan .,\n",
       " who bowls from our team ?,\n",
       " what is the speed of agarkar ?,\n",
       " not even the speed of sameer .,\n",
       " who is the spinner ?,\n",
       " he will give a lot of runs .,\n",
       " the batting style of yussof is good .,\n",
       " they scored 300 runs .,\n",
       " that is all today for us .,\n",
       " come let us have some thing ?,\n",
       " have we started batting ?,\n",
       " our openers are playing well .,\n",
       " have some coffee .,\n",
       " she reads well .,\n",
       " her father is a tahsildar .,\n",
       " her native is tanjore .,\n",
       " she is staying in the hostel .,\n",
       " you talk,\n",
       " i shall prepare lunch .,\n",
       " your mother behaves well .,\n",
       " where is your scooty pep ?,\n",
       " why do you ask ?,\n",
       " i have to buy some books .,\n",
       " watch t.v.,\n",
       " is your friend in london ?,\n",
       " is he a teacher ?,\n",
       " is it useful ?,\n",
       " don t disturb me .,\n",
       " don t talk about that .,\n",
       " don t waste my time .,\n",
       " don t go there .,\n",
       " don t move with them .,\n",
       " don t ask me anything .,\n",
       " don t talk to me .,\n",
       " don t cry .,\n",
       " don t shout .,\n",
       " you have been a great help . thank you very much .,\n",
       " thank you very much .,\n",
       " i will never forget your timely help .,\n",
       " it was nice of you to arrange everything at a short notice .,\n",
       " i don t know how to thank you .,\n",
       " i really don t know how to express my thanks to you .,\n",
       " i am very grateful to you .,\n",
       " i don t find words to express my thanks to you .,\n",
       " thank you for reminding me .,\n",
       " thanks for calling .,\n",
       " that s ok .,\n",
       " that s alright .,\n",
       " how often do you go there ?,\n",
       " how did you reach there ?,\n",
       " how did you get there ?,\n",
       " how did they escape ?,\n",
       " how did you locate the house ?,\n",
       " how did you convince them ?,\n",
       " how many rooms are there in that house ?,\n",
       " how many brothers do you have ?,\n",
       " how much is it ?,\n",
       " when is the sports day ?,\n",
       " where is it going to be held ?,\n",
       " do you have a school bus ?]"
      ]
     },
     "execution_count": 24,
     "metadata": {},
     "output_type": "execute_result"
    }
   ],
   "source": [
    "all_docs"
   ]
  },
  {
   "cell_type": "code",
   "execution_count": 28,
   "id": "358f9486-42a9-4e41-b66d-e1ac628989ba",
   "metadata": {},
   "outputs": [
    {
     "data": {
      "text/plain": [
       "spacy.tokens.doc.Doc"
      ]
     },
     "execution_count": 28,
     "metadata": {},
     "output_type": "execute_result"
    }
   ],
   "source": [
    "type(all_docs[0])"
   ]
  },
  {
   "cell_type": "code",
   "execution_count": 30,
   "id": "bc8276d9-ddd6-4afd-a531-19852942eef5",
   "metadata": {},
   "outputs": [
    {
     "data": {
      "text/plain": [
       "100"
      ]
     },
     "execution_count": 30,
     "metadata": {},
     "output_type": "execute_result"
    }
   ],
   "source": [
    "len(all_docs)"
   ]
  },
  {
   "cell_type": "code",
   "execution_count": 34,
   "id": "9e6f5fb9-e29c-46be-950f-84a81c191b71",
   "metadata": {},
   "outputs": [],
   "source": [
    "sims=[]\n",
    "doc_id=[]\n",
    "for i in range(len(all_docs)):\n",
    "    sims.append(all_docs[i].similarity(ref_sent_vec))\n",
    "    doc_id.append(i)\n",
    "sims_docs=pd.DataFrame(list(zip(doc_id,sims)),columns=['doc_id','sims']) #zip() combines multiple lists (or iterables) into a single iterable of tuples"
   ]
  },
  {
   "cell_type": "code",
   "execution_count": 42,
   "id": "8d9fcbfc-9054-45ee-a0cc-41a0a61526ad",
   "metadata": {},
   "outputs": [
    {
     "data": {
      "text/plain": [
       "[(0, 0.9545674627044881),\n",
       " (1, 1.0),\n",
       " (2, 0.8860088032800915),\n",
       " (3, 0.9076374957064303),\n",
       " (4, 0.7210944327459125),\n",
       " (5, 0.8687815460744186),\n",
       " (6, 0.8375857566177404),\n",
       " (7, 0.7731681324548545),\n",
       " (8, 0.7121459864596552),\n",
       " (9, 0.6721015007150443),\n",
       " (10, 0.593712441889435),\n",
       " (11, 0.600687951364983),\n",
       " (12, 0.5625284693630188),\n",
       " (13, 0.6376539851966277),\n",
       " (14, 0.8076199314979936),\n",
       " (15, 0.6709916794528835),\n",
       " (16, 0.6436211624077454),\n",
       " (17, 0.6126381916395487),\n",
       " (18, 0.6334184413590069),\n",
       " (19, 0.6383019307631189),\n",
       " (20, 0.703538660640088),\n",
       " (21, 0.698095923557501),\n",
       " (22, 0.7307673375130795),\n",
       " (23, 0.7554932020147836),\n",
       " (24, 0.7160085521539619),\n",
       " (25, 0.7048401122424901),\n",
       " (26, 0.7107278254142195),\n",
       " (27, 0.7249024000550108),\n",
       " (28, 0.7386948097204039),\n",
       " (29, 0.7310799922841198),\n",
       " (30, 0.7264473055415345),\n",
       " (31, 0.6673058054644717),\n",
       " (32, 0.7239435413960783),\n",
       " (33, 0.7017904351042591),\n",
       " (34, 0.7268120167689275),\n",
       " (35, 0.6975781082529322),\n",
       " (36, 0.6616381685207596),\n",
       " (37, 0.7176034621266798),\n",
       " (38, 0.6386773935993214),\n",
       " (39, 0.6298677961290781),\n",
       " (40, 0.5976482889057441),\n",
       " (41, 0.6225118812631294),\n",
       " (42, 0.6622497517360914),\n",
       " (43, 0.685525444497554),\n",
       " (44, 0.6046867763403719),\n",
       " (45, 0.6708848929174972),\n",
       " (46, 0.5584732743723405),\n",
       " (47, 0.5317935522553702),\n",
       " (48, 0.6938440209795813),\n",
       " (49, 0.7613669233483404),\n",
       " (50, 0.6361665994736501),\n",
       " (51, 0.5844169046547069),\n",
       " (52, 0.6134452846869682),\n",
       " (53, 0.5852318649500413),\n",
       " (54, 0.5519899357242581),\n",
       " (55, 0.4863712164536291),\n",
       " (56, 0.6571180729257989),\n",
       " (57, 0.660123468804883),\n",
       " (58, 0.6407950989661565),\n",
       " (59, 0.5949456855320958),\n",
       " (60, 0.6494273216450768),\n",
       " (61, 0.7386539751225265),\n",
       " (62, 0.7186552197599396),\n",
       " (63, 0.4642022322657148),\n",
       " (64, 0.6827497778867638),\n",
       " (65, 0.6048983250314607),\n",
       " (66, 0.6277933127173231),\n",
       " (67, 0.6415288349496493),\n",
       " (68, 0.6925282300856929),\n",
       " (69, 0.6797131860928088),\n",
       " (70, 0.7200366034272843),\n",
       " (71, 0.7019280908207635),\n",
       " (72, 0.7098741414232187),\n",
       " (73, 0.7086442958152768),\n",
       " (74, 0.5922680913260224),\n",
       " (75, 0.5779760986804316),\n",
       " (76, 0.677145374580202),\n",
       " (77, 0.6562993249028822),\n",
       " (78, 0.706776386967174),\n",
       " (79, 0.6991304348296637),\n",
       " (80, 0.730596777433823),\n",
       " (81, 0.756023063828873),\n",
       " (82, 0.6867565716727045),\n",
       " (83, 0.7480175399716107),\n",
       " (84, 0.6612107856093025),\n",
       " (85, 0.5928270294453873),\n",
       " (86, 0.6481650368450099),\n",
       " (87, 0.6435130952934821),\n",
       " (88, 0.7593664717021468),\n",
       " (89, 0.7604145629300717),\n",
       " (90, 0.754621215306625),\n",
       " (91, 0.7199060801726332),\n",
       " (92, 0.7280761130540365),\n",
       " (93, 0.7300328851147766),\n",
       " (94, 0.7241452660214779),\n",
       " (95, 0.7334853865223778),\n",
       " (96, 0.6887143537100316),\n",
       " (97, 0.672693400285145),\n",
       " (98, 0.7129846843074272),\n",
       " (99, 0.7852806928218724)]"
      ]
     },
     "execution_count": 42,
     "metadata": {},
     "output_type": "execute_result"
    }
   ],
   "source": [
    "list(zip(doc_id,sims))"
   ]
  },
  {
   "cell_type": "code",
   "execution_count": 36,
   "id": "54e719da-651e-4154-906f-f9dcca7ec799",
   "metadata": {},
   "outputs": [
    {
     "data": {
      "text/html": [
       "<div>\n",
       "<style scoped>\n",
       "    .dataframe tbody tr th:only-of-type {\n",
       "        vertical-align: middle;\n",
       "    }\n",
       "\n",
       "    .dataframe tbody tr th {\n",
       "        vertical-align: top;\n",
       "    }\n",
       "\n",
       "    .dataframe thead th {\n",
       "        text-align: right;\n",
       "    }\n",
       "</style>\n",
       "<table border=\"1\" class=\"dataframe\">\n",
       "  <thead>\n",
       "    <tr style=\"text-align: right;\">\n",
       "      <th></th>\n",
       "      <th>doc_id</th>\n",
       "      <th>sims</th>\n",
       "    </tr>\n",
       "  </thead>\n",
       "  <tbody>\n",
       "    <tr>\n",
       "      <th>0</th>\n",
       "      <td>0</td>\n",
       "      <td>0.954567</td>\n",
       "    </tr>\n",
       "    <tr>\n",
       "      <th>1</th>\n",
       "      <td>1</td>\n",
       "      <td>1.000000</td>\n",
       "    </tr>\n",
       "    <tr>\n",
       "      <th>2</th>\n",
       "      <td>2</td>\n",
       "      <td>0.886009</td>\n",
       "    </tr>\n",
       "    <tr>\n",
       "      <th>3</th>\n",
       "      <td>3</td>\n",
       "      <td>0.907637</td>\n",
       "    </tr>\n",
       "    <tr>\n",
       "      <th>4</th>\n",
       "      <td>4</td>\n",
       "      <td>0.721094</td>\n",
       "    </tr>\n",
       "    <tr>\n",
       "      <th>...</th>\n",
       "      <td>...</td>\n",
       "      <td>...</td>\n",
       "    </tr>\n",
       "    <tr>\n",
       "      <th>95</th>\n",
       "      <td>95</td>\n",
       "      <td>0.733485</td>\n",
       "    </tr>\n",
       "    <tr>\n",
       "      <th>96</th>\n",
       "      <td>96</td>\n",
       "      <td>0.688714</td>\n",
       "    </tr>\n",
       "    <tr>\n",
       "      <th>97</th>\n",
       "      <td>97</td>\n",
       "      <td>0.672693</td>\n",
       "    </tr>\n",
       "    <tr>\n",
       "      <th>98</th>\n",
       "      <td>98</td>\n",
       "      <td>0.712985</td>\n",
       "    </tr>\n",
       "    <tr>\n",
       "      <th>99</th>\n",
       "      <td>99</td>\n",
       "      <td>0.785281</td>\n",
       "    </tr>\n",
       "  </tbody>\n",
       "</table>\n",
       "<p>100 rows × 2 columns</p>\n",
       "</div>"
      ],
      "text/plain": [
       "    doc_id      sims\n",
       "0        0  0.954567\n",
       "1        1  1.000000\n",
       "2        2  0.886009\n",
       "3        3  0.907637\n",
       "4        4  0.721094\n",
       "..     ...       ...\n",
       "95      95  0.733485\n",
       "96      96  0.688714\n",
       "97      97  0.672693\n",
       "98      98  0.712985\n",
       "99      99  0.785281\n",
       "\n",
       "[100 rows x 2 columns]"
      ]
     },
     "execution_count": 36,
     "metadata": {},
     "output_type": "execute_result"
    }
   ],
   "source": [
    "sims_docs"
   ]
  },
  {
   "cell_type": "code",
   "execution_count": 50,
   "id": "5bcce031-6caf-42ff-b281-ba7385039d08",
   "metadata": {},
   "outputs": [
    {
     "data": {
      "text/plain": [
       "[('1', 'A'), ('0', 'k')]"
      ]
     },
     "execution_count": 50,
     "metadata": {},
     "output_type": "execute_result"
    }
   ],
   "source": [
    "list(zip('10', 'Ak'))#each character is treated as an individual element-->zip pairs the elements from both strings, character by character"
   ]
  },
  {
   "cell_type": "code",
   "execution_count": 52,
   "id": "088cc67e-0ce3-4b52-82f6-7fd492455447",
   "metadata": {},
   "outputs": [
    {
     "data": {
      "text/html": [
       "<div>\n",
       "<style scoped>\n",
       "    .dataframe tbody tr th:only-of-type {\n",
       "        vertical-align: middle;\n",
       "    }\n",
       "\n",
       "    .dataframe tbody tr th {\n",
       "        vertical-align: top;\n",
       "    }\n",
       "\n",
       "    .dataframe thead th {\n",
       "        text-align: right;\n",
       "    }\n",
       "</style>\n",
       "<table border=\"1\" class=\"dataframe\">\n",
       "  <thead>\n",
       "    <tr style=\"text-align: right;\">\n",
       "      <th></th>\n",
       "      <th>doc_id</th>\n",
       "      <th>sims</th>\n",
       "    </tr>\n",
       "  </thead>\n",
       "  <tbody>\n",
       "    <tr>\n",
       "      <th>1</th>\n",
       "      <td>1</td>\n",
       "      <td>1.000000</td>\n",
       "    </tr>\n",
       "    <tr>\n",
       "      <th>0</th>\n",
       "      <td>0</td>\n",
       "      <td>0.954567</td>\n",
       "    </tr>\n",
       "    <tr>\n",
       "      <th>3</th>\n",
       "      <td>3</td>\n",
       "      <td>0.907637</td>\n",
       "    </tr>\n",
       "    <tr>\n",
       "      <th>2</th>\n",
       "      <td>2</td>\n",
       "      <td>0.886009</td>\n",
       "    </tr>\n",
       "    <tr>\n",
       "      <th>5</th>\n",
       "      <td>5</td>\n",
       "      <td>0.868782</td>\n",
       "    </tr>\n",
       "  </tbody>\n",
       "</table>\n",
       "</div>"
      ],
      "text/plain": [
       "   doc_id      sims\n",
       "1       1  1.000000\n",
       "0       0  0.954567\n",
       "3       3  0.907637\n",
       "2       2  0.886009\n",
       "5       5  0.868782"
      ]
     },
     "execution_count": 52,
     "metadata": {},
     "output_type": "execute_result"
    }
   ],
   "source": [
    "sims_docs_sorted= sims_docs.sort_values(by='sims',ascending=False)\n",
    "sims_docs_sorted.head()"
   ]
  },
  {
   "cell_type": "code",
   "execution_count": 54,
   "id": "489c02aa-a72f-4678-9c81-13357e650596",
   "metadata": {},
   "outputs": [
    {
     "data": {
      "text/plain": [
       "1    1\n",
       "0    0\n",
       "3    3\n",
       "2    2\n",
       "5    5\n",
       "Name: doc_id, dtype: int64"
      ]
     },
     "execution_count": 54,
     "metadata": {},
     "output_type": "execute_result"
    }
   ],
   "source": [
    "sims_docs_sorted['doc_id'][:5]  #returns the id"
   ]
  },
  {
   "cell_type": "code",
   "execution_count": 56,
   "id": "26914741-b2da-451e-b743-225f7e6c09e0",
   "metadata": {},
   "outputs": [
    {
     "data": {
      "text/html": [
       "<div>\n",
       "<style scoped>\n",
       "    .dataframe tbody tr th:only-of-type {\n",
       "        vertical-align: middle;\n",
       "    }\n",
       "\n",
       "    .dataframe tbody tr th {\n",
       "        vertical-align: top;\n",
       "    }\n",
       "\n",
       "    .dataframe thead th {\n",
       "        text-align: right;\n",
       "    }\n",
       "</style>\n",
       "<table border=\"1\" class=\"dataframe\">\n",
       "  <thead>\n",
       "    <tr style=\"text-align: right;\">\n",
       "      <th></th>\n",
       "      <th>ID</th>\n",
       "      <th>Message</th>\n",
       "    </tr>\n",
       "  </thead>\n",
       "  <tbody>\n",
       "    <tr>\n",
       "      <th>1</th>\n",
       "      <td>2</td>\n",
       "      <td>what all buses go to gandhi nagar ?</td>\n",
       "    </tr>\n",
       "    <tr>\n",
       "      <th>0</th>\n",
       "      <td>1</td>\n",
       "      <td>does this bus go to gandhi nagar ?</td>\n",
       "    </tr>\n",
       "    <tr>\n",
       "      <th>3</th>\n",
       "      <td>4</td>\n",
       "      <td>when is the next bus to gandhi nagar ?</td>\n",
       "    </tr>\n",
       "    <tr>\n",
       "      <th>2</th>\n",
       "      <td>3</td>\n",
       "      <td>is the bus that just left gandhi nagar bus ?</td>\n",
       "    </tr>\n",
       "    <tr>\n",
       "      <th>5</th>\n",
       "      <td>6</td>\n",
       "      <td>does this bus go via ashok nagar ?</td>\n",
       "    </tr>\n",
       "  </tbody>\n",
       "</table>\n",
       "</div>"
      ],
      "text/plain": [
       "   ID                                       Message\n",
       "1   2           what all buses go to gandhi nagar ?\n",
       "0   1            does this bus go to gandhi nagar ?\n",
       "3   4        when is the next bus to gandhi nagar ?\n",
       "2   3  is the bus that just left gandhi nagar bus ?\n",
       "5   6            does this bus go via ashok nagar ?"
      ]
     },
     "execution_count": 56,
     "metadata": {},
     "output_type": "execute_result"
    }
   ],
   "source": [
    "top5_sim_doc=df.iloc[sims_docs_sorted['doc_id'][:5]]\n",
    "top5_sim_doc"
   ]
  },
  {
   "cell_type": "code",
   "execution_count": 62,
   "id": "bd439716-891b-448f-8ea9-1b1b6c3e551a",
   "metadata": {},
   "outputs": [
    {
     "data": {
      "text/html": [
       "<div>\n",
       "<style scoped>\n",
       "    .dataframe tbody tr th:only-of-type {\n",
       "        vertical-align: middle;\n",
       "    }\n",
       "\n",
       "    .dataframe tbody tr th {\n",
       "        vertical-align: top;\n",
       "    }\n",
       "\n",
       "    .dataframe thead th {\n",
       "        text-align: right;\n",
       "    }\n",
       "</style>\n",
       "<table border=\"1\" class=\"dataframe\">\n",
       "  <thead>\n",
       "    <tr style=\"text-align: right;\">\n",
       "      <th></th>\n",
       "      <th>ID</th>\n",
       "      <th>Message</th>\n",
       "      <th>sims</th>\n",
       "    </tr>\n",
       "  </thead>\n",
       "  <tbody>\n",
       "    <tr>\n",
       "      <th>1</th>\n",
       "      <td>2</td>\n",
       "      <td>what all buses go to gandhi nagar ?</td>\n",
       "      <td>1.000000</td>\n",
       "    </tr>\n",
       "    <tr>\n",
       "      <th>0</th>\n",
       "      <td>1</td>\n",
       "      <td>does this bus go to gandhi nagar ?</td>\n",
       "      <td>0.954567</td>\n",
       "    </tr>\n",
       "    <tr>\n",
       "      <th>3</th>\n",
       "      <td>4</td>\n",
       "      <td>when is the next bus to gandhi nagar ?</td>\n",
       "      <td>0.907637</td>\n",
       "    </tr>\n",
       "    <tr>\n",
       "      <th>2</th>\n",
       "      <td>3</td>\n",
       "      <td>is the bus that just left gandhi nagar bus ?</td>\n",
       "      <td>0.886009</td>\n",
       "    </tr>\n",
       "    <tr>\n",
       "      <th>5</th>\n",
       "      <td>6</td>\n",
       "      <td>does this bus go via ashok nagar ?</td>\n",
       "      <td>0.868782</td>\n",
       "    </tr>\n",
       "  </tbody>\n",
       "</table>\n",
       "</div>"
      ],
      "text/plain": [
       "   ID                                       Message      sims\n",
       "1   2           what all buses go to gandhi nagar ?  1.000000\n",
       "0   1            does this bus go to gandhi nagar ?  0.954567\n",
       "3   4        when is the next bus to gandhi nagar ?  0.907637\n",
       "2   3  is the bus that just left gandhi nagar bus ?  0.886009\n",
       "5   6            does this bus go via ashok nagar ?  0.868782"
      ]
     },
     "execution_count": 62,
     "metadata": {},
     "output_type": "execute_result"
    }
   ],
   "source": [
    "top_sims_score = pd.concat([top5_sim_doc, sims_docs_sorted['sims'][0:5]], axis=1)\n",
    "top_sims_score"
   ]
  },
  {
   "cell_type": "code",
   "execution_count": null,
   "id": "2345c0fd-2479-4e81-b901-83545a4c2d03",
   "metadata": {},
   "outputs": [],
   "source": []
  }
 ],
 "metadata": {
  "kernelspec": {
   "display_name": "Python 3 (ipykernel)",
   "language": "python",
   "name": "python3"
  },
  "language_info": {
   "codemirror_mode": {
    "name": "ipython",
    "version": 3
   },
   "file_extension": ".py",
   "mimetype": "text/x-python",
   "name": "python",
   "nbconvert_exporter": "python",
   "pygments_lexer": "ipython3",
   "version": "3.12.7"
  }
 },
 "nbformat": 4,
 "nbformat_minor": 5
}
