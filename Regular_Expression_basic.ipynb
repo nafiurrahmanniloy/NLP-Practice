{
 "cells": [
  {
   "cell_type": "code",
   "execution_count": 42,
   "id": "e1061286-81c5-404b-8d85-54e65dc1830d",
   "metadata": {},
   "outputs": [],
   "source": [
    "import re\n",
    "import warnings\n",
    "warnings.simplefilter(\"ignore\")"
   ]
  },
  {
   "cell_type": "code",
   "execution_count": 44,
   "id": "e8da3049-58b1-464d-8b16-0238dd0f5d12",
   "metadata": {},
   "outputs": [
    {
     "name": "stdout",
     "output_type": "stream",
     "text": [
      "There is an ape\n",
      "ape \n",
      "apex\n"
     ]
    }
   ],
   "source": [
    "# Search for an exact string match\n",
    "if re.search(\"ape\", \"The ape was at the apex\"):\n",
    "    print(\"There is an ape\")\n",
    "\n",
    "# findall() returns a list of matches and . is used to match any 1 character or space\n",
    "all_apes = re.findall(\"ape.\", \"The ape was at the apex\")\n",
    "all_apes\n",
    "for i in all_apes:\n",
    "     print(i)"
   ]
  },
  {
   "cell_type": "code",
   "execution_count": 46,
   "id": "fcc9879b-a05a-4058-b5a5-765293f6fcd7",
   "metadata": {},
   "outputs": [
    {
     "name": "stdout",
     "output_type": "stream",
     "text": [
      "['The', 'rain', 'in', 'Spain']\n"
     ]
    }
   ],
   "source": [
    "txt = \"The rain in Spain\"\n",
    "x = re.split(\"\\s\", txt) #\"\\s\"-->This will split the string txt into a list of substrings wherever a whitespace character is found.\n",
    "print(x)\n"
   ]
  },
  {
   "cell_type": "code",
   "execution_count": 48,
   "id": "1f499803-0891-4f40-9e64-a14885743138",
   "metadata": {},
   "outputs": [
    {
     "name": "stdout",
     "output_type": "stream",
     "text": [
      "['The', 'rain in Spain']\n"
     ]
    }
   ],
   "source": [
    "txt = \"The rain in Spain\"\n",
    "x = re.split(\"\\s\", txt, 1) # 1: The maximum number of splits to perform.\n",
    "print(x)"
   ]
  },
  {
   "cell_type": "code",
   "execution_count": 50,
   "id": "8eb2a26a-985c-4d3f-bd6e-482e42c4e2b6",
   "metadata": {},
   "outputs": [
    {
     "name": "stdout",
     "output_type": "stream",
     "text": [
      "The-rain-in-Spain\n"
     ]
    }
   ],
   "source": [
    "txt = \"The rain in Spain\"\n",
    "x = re.sub(\"\\s\", \"-\", txt)\n",
    "print(x)\n"
   ]
  },
  {
   "cell_type": "code",
   "execution_count": 52,
   "id": "632ea56f-e096-4c45-90aa-177f7a6b6e34",
   "metadata": {},
   "outputs": [
    {
     "name": "stdout",
     "output_type": "stream",
     "text": [
      "Matches : 2\n"
     ]
    }
   ],
   "source": [
    "rand_str = \"F.B.I. I.R.S. CIA\"\n",
    "print(\"Matches :\", len(re.findall(\".\\..\\..\", rand_str)))"
   ]
  },
  {
   "cell_type": "code",
   "execution_count": null,
   "id": "51244455-edba-48c8-891b-7eead9b67d08",
   "metadata": {},
   "outputs": [],
   "source": []
  }
 ],
 "metadata": {
  "kernelspec": {
   "display_name": "Python 3 (ipykernel)",
   "language": "python",
   "name": "python3"
  },
  "language_info": {
   "codemirror_mode": {
    "name": "ipython",
    "version": 3
   },
   "file_extension": ".py",
   "mimetype": "text/x-python",
   "name": "python",
   "nbconvert_exporter": "python",
   "pygments_lexer": "ipython3",
   "version": "3.12.7"
  }
 },
 "nbformat": 4,
 "nbformat_minor": 5
}
